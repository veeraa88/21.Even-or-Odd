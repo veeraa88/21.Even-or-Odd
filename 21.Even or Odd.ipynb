{
 "cells": [
  {
   "cell_type": "code",
   "execution_count": 9,
   "id": "439dd393-9464-4598-9e37-4ad471eb82f5",
   "metadata": {},
   "outputs": [
    {
     "name": "stdin",
     "output_type": "stream",
     "text": [
      "Enter number here: 2\n"
     ]
    },
    {
     "name": "stdout",
     "output_type": "stream",
     "text": [
      "EVEN\n"
     ]
    }
   ],
   "source": [
    "k=int(input(\"Enter number here:\"))\n",
    "def odd_even(k):\n",
    "    if k % 2 == 1:\n",
    "        print(\"ODD\")\n",
    "    else:\n",
    "        print(\"EVEN\")\n",
    "        \n",
    "odd_even(k)"
   ]
  },
  {
   "cell_type": "code",
   "execution_count": null,
   "id": "4cf98d49-34c4-47e4-89bb-f6eba0bb5e0e",
   "metadata": {},
   "outputs": [],
   "source": []
  }
 ],
 "metadata": {
  "kernelspec": {
   "display_name": "Python [conda env:base] *",
   "language": "python",
   "name": "conda-base-py"
  },
  "language_info": {
   "codemirror_mode": {
    "name": "ipython",
    "version": 3
   },
   "file_extension": ".py",
   "mimetype": "text/x-python",
   "name": "python",
   "nbconvert_exporter": "python",
   "pygments_lexer": "ipython3",
   "version": "3.12.7"
  }
 },
 "nbformat": 4,
 "nbformat_minor": 5
}
